{
 "cells": [
  {
   "cell_type": "code",
   "execution_count": 1,
   "id": "95c9f5b4",
   "metadata": {},
   "outputs": [],
   "source": [
    "import pandas as pd\n",
    "import random"
   ]
  },
  {
   "cell_type": "code",
   "execution_count": 2,
   "id": "1e71209a",
   "metadata": {},
   "outputs": [
    {
     "name": "stdout",
     "output_type": "stream",
     "text": [
      "SQL terminal: I want you to act as my personal chef. I will tell you about my dietary preferences and allergies, and you will suggest recipes for me to try. You should only reply with the recipes you recommend, and nothing else. Do not write explanations. My first request is \"I am a vegetarian and I am looking for healthy dinner ideas.\"\n"
     ]
    }
   ],
   "source": [
    "df = pd.read_csv(\"prompts.csv\")\n",
    "a_list = df['act'].values.tolist()\n",
    "b_list = df['prompt'].values.tolist()\n",
    "purpose = random.choice(a_list)\n",
    "prompt = random.choice(b_list)\n",
    "print(purpose + \": \" + prompt)"
   ]
  },
  {
   "cell_type": "code",
   "execution_count": 3,
   "id": "8fcc1d66",
   "metadata": {},
   "outputs": [
    {
     "name": "stdout",
     "output_type": "stream",
     "text": [
      " * Serving Flask app '__main__'\n",
      " * Debug mode: off\n"
     ]
    },
    {
     "name": "stderr",
     "output_type": "stream",
     "text": [
      "WARNING: This is a development server. Do not use it in a production deployment. Use a production WSGI server instead.\n",
      " * Running on http://127.0.0.1:5000\n",
      "Press CTRL+C to quit\n"
     ]
    }
   ],
   "source": [
    "from flask import Flask, request, jsonify\n",
    "from flask_cors import CORS\n",
    "\n",
    "app = Flask(__name__)\n",
    "CORS(app)\n",
    "\n",
    "def RandomPrompt():\n",
    "    purpose = random.choice(a_list)\n",
    "    prompt = random.choice(b_list)\n",
    "\n",
    "    return [purpose,prompt]\n",
    "\n",
    "@app.route(\"/\")\n",
    "def sendJSON():\n",
    "    response = RandomPrompt()\n",
    "    return jsonify({\"message\": response})\n",
    "\n",
    "if __name__ == '__main__':\n",
    "    app.run() "
   ]
  }
 ],
 "metadata": {
  "kernelspec": {
   "display_name": "Python 3",
   "language": "python",
   "name": "python3"
  },
  "language_info": {
   "codemirror_mode": {
    "name": "ipython",
    "version": 3
   },
   "file_extension": ".py",
   "mimetype": "text/x-python",
   "name": "python",
   "nbconvert_exporter": "python",
   "pygments_lexer": "ipython3",
   "version": "3.8.10"
  },
  "vscode": {
   "interpreter": {
    "hash": "6a3f08dfeb42fcd35651c55edc43d2bd8f9f03f2a5d3042b76bbb8d702272fc4"
   }
  }
 },
 "nbformat": 4,
 "nbformat_minor": 5
}
